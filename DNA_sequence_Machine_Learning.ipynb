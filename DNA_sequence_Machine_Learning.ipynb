{
 "cells": [
  {
   "cell_type": "code",
   "execution_count": 1,
   "metadata": {},
   "outputs": [],
   "source": [
    "import pandas as pd\n",
    "import numpy as np\n",
    "import matplotlib.pyplot as plt\n",
    "import seaborn as sns\n",
    "sns.set()"
   ]
  },
  {
   "cell_type": "code",
   "execution_count": 7,
   "metadata": {},
   "outputs": [],
   "source": [
    "dna=pd.read_table('human_data.txt')"
   ]
  },
  {
   "cell_type": "code",
   "execution_count": 8,
   "metadata": {},
   "outputs": [
    {
     "data": {
      "text/plain": [
       "(4380, 2)"
      ]
     },
     "execution_count": 8,
     "metadata": {},
     "output_type": "execute_result"
    }
   ],
   "source": [
    "dna.shape"
   ]
  },
  {
   "cell_type": "code",
   "execution_count": 9,
   "metadata": {},
   "outputs": [
    {
     "data": {
      "text/html": [
       "<div>\n",
       "<style scoped>\n",
       "    .dataframe tbody tr th:only-of-type {\n",
       "        vertical-align: middle;\n",
       "    }\n",
       "\n",
       "    .dataframe tbody tr th {\n",
       "        vertical-align: top;\n",
       "    }\n",
       "\n",
       "    .dataframe thead th {\n",
       "        text-align: right;\n",
       "    }\n",
       "</style>\n",
       "<table border=\"1\" class=\"dataframe\">\n",
       "  <thead>\n",
       "    <tr style=\"text-align: right;\">\n",
       "      <th></th>\n",
       "      <th>sequence</th>\n",
       "      <th>class</th>\n",
       "    </tr>\n",
       "  </thead>\n",
       "  <tbody>\n",
       "    <tr>\n",
       "      <th>0</th>\n",
       "      <td>ATGCCCCAACTAAATACTACCGTATGGCCCACCATAATTACCCCCA...</td>\n",
       "      <td>4</td>\n",
       "    </tr>\n",
       "    <tr>\n",
       "      <th>1</th>\n",
       "      <td>ATGAACGAAAATCTGTTCGCTTCATTCATTGCCCCCACAATCCTAG...</td>\n",
       "      <td>4</td>\n",
       "    </tr>\n",
       "    <tr>\n",
       "      <th>2</th>\n",
       "      <td>ATGTGTGGCATTTGGGCGCTGTTTGGCAGTGATGATTGCCTTTCTG...</td>\n",
       "      <td>3</td>\n",
       "    </tr>\n",
       "    <tr>\n",
       "      <th>3</th>\n",
       "      <td>ATGTGTGGCATTTGGGCGCTGTTTGGCAGTGATGATTGCCTTTCTG...</td>\n",
       "      <td>3</td>\n",
       "    </tr>\n",
       "    <tr>\n",
       "      <th>4</th>\n",
       "      <td>ATGCAACAGCATTTTGAATTTGAATACCAGACCAAAGTGGATGGTG...</td>\n",
       "      <td>3</td>\n",
       "    </tr>\n",
       "  </tbody>\n",
       "</table>\n",
       "</div>"
      ],
      "text/plain": [
       "                                            sequence  class\n",
       "0  ATGCCCCAACTAAATACTACCGTATGGCCCACCATAATTACCCCCA...      4\n",
       "1  ATGAACGAAAATCTGTTCGCTTCATTCATTGCCCCCACAATCCTAG...      4\n",
       "2  ATGTGTGGCATTTGGGCGCTGTTTGGCAGTGATGATTGCCTTTCTG...      3\n",
       "3  ATGTGTGGCATTTGGGCGCTGTTTGGCAGTGATGATTGCCTTTCTG...      3\n",
       "4  ATGCAACAGCATTTTGAATTTGAATACCAGACCAAAGTGGATGGTG...      3"
      ]
     },
     "execution_count": 9,
     "metadata": {},
     "output_type": "execute_result"
    }
   ],
   "source": [
    "dna.head()"
   ]
  },
  {
   "cell_type": "code",
   "execution_count": 11,
   "metadata": {},
   "outputs": [],
   "source": [
    "dna.columns=['sequence', 'label']"
   ]
  },
  {
   "cell_type": "code",
   "execution_count": 17,
   "metadata": {},
   "outputs": [],
   "source": [
    "dna.label=dna.label.map({0:1,\n",
    "                        1:1,\n",
    "                        2:1,\n",
    "                        3:1,\n",
    "                        4:0,\n",
    "                        5:0,\n",
    "                        6:0,\n",
    "                        })"
   ]
  },
  {
   "cell_type": "code",
   "execution_count": 19,
   "metadata": {},
   "outputs": [
    {
     "data": {
      "text/html": [
       "<div>\n",
       "<style scoped>\n",
       "    .dataframe tbody tr th:only-of-type {\n",
       "        vertical-align: middle;\n",
       "    }\n",
       "\n",
       "    .dataframe tbody tr th {\n",
       "        vertical-align: top;\n",
       "    }\n",
       "\n",
       "    .dataframe thead th {\n",
       "        text-align: right;\n",
       "    }\n",
       "</style>\n",
       "<table border=\"1\" class=\"dataframe\">\n",
       "  <thead>\n",
       "    <tr style=\"text-align: right;\">\n",
       "      <th></th>\n",
       "      <th>sequence</th>\n",
       "      <th>label</th>\n",
       "    </tr>\n",
       "  </thead>\n",
       "  <tbody>\n",
       "    <tr>\n",
       "      <th>0</th>\n",
       "      <td>ATGCCCCAACTAAATACTACCGTATGGCCCACCATAATTACCCCCA...</td>\n",
       "      <td>0</td>\n",
       "    </tr>\n",
       "    <tr>\n",
       "      <th>1</th>\n",
       "      <td>ATGAACGAAAATCTGTTCGCTTCATTCATTGCCCCCACAATCCTAG...</td>\n",
       "      <td>0</td>\n",
       "    </tr>\n",
       "    <tr>\n",
       "      <th>2</th>\n",
       "      <td>ATGTGTGGCATTTGGGCGCTGTTTGGCAGTGATGATTGCCTTTCTG...</td>\n",
       "      <td>1</td>\n",
       "    </tr>\n",
       "    <tr>\n",
       "      <th>3</th>\n",
       "      <td>ATGTGTGGCATTTGGGCGCTGTTTGGCAGTGATGATTGCCTTTCTG...</td>\n",
       "      <td>1</td>\n",
       "    </tr>\n",
       "    <tr>\n",
       "      <th>4</th>\n",
       "      <td>ATGCAACAGCATTTTGAATTTGAATACCAGACCAAAGTGGATGGTG...</td>\n",
       "      <td>1</td>\n",
       "    </tr>\n",
       "  </tbody>\n",
       "</table>\n",
       "</div>"
      ],
      "text/plain": [
       "                                            sequence  label\n",
       "0  ATGCCCCAACTAAATACTACCGTATGGCCCACCATAATTACCCCCA...      0\n",
       "1  ATGAACGAAAATCTGTTCGCTTCATTCATTGCCCCCACAATCCTAG...      0\n",
       "2  ATGTGTGGCATTTGGGCGCTGTTTGGCAGTGATGATTGCCTTTCTG...      1\n",
       "3  ATGTGTGGCATTTGGGCGCTGTTTGGCAGTGATGATTGCCTTTCTG...      1\n",
       "4  ATGCAACAGCATTTTGAATTTGAATACCAGACCAAAGTGGATGGTG...      1"
      ]
     },
     "execution_count": 19,
     "metadata": {},
     "output_type": "execute_result"
    }
   ],
   "source": [
    "dna.head()"
   ]
  },
  {
   "cell_type": "code",
   "execution_count": 20,
   "metadata": {},
   "outputs": [
    {
     "data": {
      "text/plain": [
       "<matplotlib.axes._subplots.AxesSubplot at 0x1a217f2290>"
      ]
     },
     "execution_count": 20,
     "metadata": {},
     "output_type": "execute_result"
    },
    {
     "data": {
      "image/png": "[encoded data removed]",
      "text/plain": [
       "<Figure size 432x288 with 1 Axes>"
      ]
     },
     "metadata": {},
     "output_type": "display_data"
    }
   ],
   "source": [
    "dna.label.hist()"
   ]
  },
  {
   "cell_type": "code",
   "execution_count": 21,
   "metadata": {},
   "outputs": [],
   "source": [
    "def getKmers(sequence, size=6):\n",
    "    return [sequence[x:x+size].lower() for x in range(len(sequence) - size + 1)]"
   ]
  },
  {
   "cell_type": "code",
   "execution_count": 22,
   "metadata": {},
   "outputs": [],
   "source": [
    "dna['words'] = dna.apply(lambda x: getKmers(x['sequence']), axis=1)\n",
    "dna = dna.drop('sequence', axis=1)"
   ]
  },
  {
   "cell_type": "code",
   "execution_count": 23,
   "metadata": {},
   "outputs": [
    {
     "data": {
      "text/html": [
       "<div>\n",
       "<style scoped>\n",
       "    .dataframe tbody tr th:only-of-type {\n",
       "        vertical-align: middle;\n",
       "    }\n",
       "\n",
       "    .dataframe tbody tr th {\n",
       "        vertical-align: top;\n",
       "    }\n",
       "\n",
       "    .dataframe thead th {\n",
       "        text-align: right;\n",
       "    }\n",
       "</style>\n",
       "<table border=\"1\" class=\"dataframe\">\n",
       "  <thead>\n",
       "    <tr style=\"text-align: right;\">\n",
       "      <th></th>\n",
       "      <th>label</th>\n",
       "      <th>words</th>\n",
       "    </tr>\n",
       "  </thead>\n",
       "  <tbody>\n",
       "    <tr>\n",
       "      <th>0</th>\n",
       "      <td>0</td>\n",
       "      <td>[atgccc, tgcccc, gcccca, ccccaa, cccaac, ccaac...</td>\n",
       "    </tr>\n",
       "    <tr>\n",
       "      <th>1</th>\n",
       "      <td>0</td>\n",
       "      <td>[atgaac, tgaacg, gaacga, aacgaa, acgaaa, cgaaa...</td>\n",
       "    </tr>\n",
       "    <tr>\n",
       "      <th>2</th>\n",
       "      <td>1</td>\n",
       "      <td>[atgtgt, tgtgtg, gtgtgg, tgtggc, gtggca, tggca...</td>\n",
       "    </tr>\n",
       "    <tr>\n",
       "      <th>3</th>\n",
       "      <td>1</td>\n",
       "      <td>[atgtgt, tgtgtg, gtgtgg, tgtggc, gtggca, tggca...</td>\n",
       "    </tr>\n",
       "    <tr>\n",
       "      <th>4</th>\n",
       "      <td>1</td>\n",
       "      <td>[atgcaa, tgcaac, gcaaca, caacag, aacagc, acagc...</td>\n",
       "    </tr>\n",
       "    <tr>\n",
       "      <th>...</th>\n",
       "      <td>...</td>\n",
       "      <td>...</td>\n",
       "    </tr>\n",
       "    <tr>\n",
       "      <th>4375</th>\n",
       "      <td>1</td>\n",
       "      <td>[atggaa, tggaag, ggaaga, gaagat, aagatt, agatt...</td>\n",
       "    </tr>\n",
       "    <tr>\n",
       "      <th>4376</th>\n",
       "      <td>0</td>\n",
       "      <td>[atgcag, tgcagt, gcagtc, cagtcc, agtcct, gtcct...</td>\n",
       "    </tr>\n",
       "    <tr>\n",
       "      <th>4377</th>\n",
       "      <td>0</td>\n",
       "      <td>[atgcag, tgcagt, gcagtc, cagtcc, agtcct, gtcct...</td>\n",
       "    </tr>\n",
       "    <tr>\n",
       "      <th>4378</th>\n",
       "      <td>0</td>\n",
       "      <td>[atgggg, tggggc, ggggca, gggcac, ggcacc, gcacc...</td>\n",
       "    </tr>\n",
       "    <tr>\n",
       "      <th>4379</th>\n",
       "      <td>0</td>\n",
       "      <td>[atgcag, tgcagt, gcagtc, cagtcc, agtcct, gtcct...</td>\n",
       "    </tr>\n",
       "  </tbody>\n",
       "</table>\n",
       "<p>4380 rows × 2 columns</p>\n",
       "</div>"
      ],
      "text/plain": [
       "      label                                              words\n",
       "0         0  [atgccc, tgcccc, gcccca, ccccaa, cccaac, ccaac...\n",
       "1         0  [atgaac, tgaacg, gaacga, aacgaa, acgaaa, cgaaa...\n",
       "2         1  [atgtgt, tgtgtg, gtgtgg, tgtggc, gtggca, tggca...\n",
       "3         1  [atgtgt, tgtgtg, gtgtgg, tgtggc, gtggca, tggca...\n",
       "4         1  [atgcaa, tgcaac, gcaaca, caacag, aacagc, acagc...\n",
       "...     ...                                                ...\n",
       "4375      1  [atggaa, tggaag, ggaaga, gaagat, aagatt, agatt...\n",
       "4376      0  [atgcag, tgcagt, gcagtc, cagtcc, agtcct, gtcct...\n",
       "4377      0  [atgcag, tgcagt, gcagtc, cagtcc, agtcct, gtcct...\n",
       "4378      0  [atgggg, tggggc, ggggca, gggcac, ggcacc, gcacc...\n",
       "4379      0  [atgcag, tgcagt, gcagtc, cagtcc, agtcct, gtcct...\n",
       "\n",
       "[4380 rows x 2 columns]"
      ]
     },
     "execution_count": 23,
     "metadata": {},
     "output_type": "execute_result"
    }
   ],
   "source": [
    "dna"
   ]
  },
  {
   "cell_type": "code",
   "execution_count": 24,
   "metadata": {},
   "outputs": [],
   "source": [
    "texts = list(dna['words'])\n",
    "for item in range(len(texts)):\n",
    "    texts[item] = ' '.join(texts[item])\n",
    "y_h = dna.iloc[:, 0].values "
   ]
  },
  {
   "cell_type": "code",
   "execution_count": 25,
   "metadata": {},
   "outputs": [
    {
     "data": {
      "text/plain": [
       "array([0, 0, 1, ..., 0, 0, 0])"
      ]
     },
     "execution_count": 25,
     "metadata": {},
     "output_type": "execute_result"
    }
   ],
   "source": [
    "y_h"
   ]
  },
  {
   "cell_type": "code",
   "execution_count": 26,
   "metadata": {},
   "outputs": [
    {
     "data": {
      "text/plain": [
       "'atgccc tgcccc gcccca ccccaa cccaac ccaact caacta aactaa actaaa ctaaat taaata aaatac aatact atacta tactac actacc ctaccg taccgt accgta ccgtat cgtatg gtatgg tatggc atggcc tggccc ggccca gcccac cccacc ccacca caccat accata ccataa cataat ataatt taatta aattac attacc ttaccc tacccc accccc ccccca ccccat cccata ccatac catact atactc tactcc actcct ctcctt tcctta ccttac cttaca ttacac tacact acacta cactat actatt ctattc tattcc attcct ttcctc tcctca cctcat ctcatc tcatca catcac atcacc tcaccc caccca acccaa cccaac ccaact caacta aactaa actaaa ctaaaa taaaaa aaaaat aaaata aaatat aatatt atatta tattaa attaaa ttaaac taaaca aaacac aacaca acacaa cacaaa acaaac caaact aaacta aactac actacc ctacca taccac accacc ccacct caccta acctac cctacc ctacct tacctc acctcc cctccc ctccct tccctc ccctca cctcac ctcacc tcacca caccaa accaaa ccaaag caaagc aaagcc aagccc agccca gcccat cccata ccataa cataaa ataaaa taaaaa aaaaat aaaata aaataa aataaa ataaaa taaaaa aaaaaa aaaaat aaaatt aaatta aattat attata ttataa tataac ataaca taacaa aacaaa acaaac caaacc aaaccc aaccct accctg ccctga cctgag ctgaga tgagaa gagaac agaacc gaacca aaccaa accaaa ccaaaa caaaat aaaatg aaatga aatgaa atgaac tgaacg gaacga aacgaa acgaaa cgaaaa gaaaat aaaatc aaatct aatctg atctgt tctgtt ctgttc tgttcg gttcgc ttcgct tcgctt cgcttc gcttca cttcat ttcatt tcattc cattca attcat ttcatt tcattg cattgc attgcc ttgccc tgcccc gccccc ccccca ccccac cccaca ccacaa cacaat acaatc caatcc aatcct atccta tcctag'"
      ]
     },
     "execution_count": 26,
     "metadata": {},
     "output_type": "execute_result"
    }
   ],
   "source": [
    "texts[0]"
   ]
  },
  {
   "cell_type": "code",
   "execution_count": 27,
   "metadata": {},
   "outputs": [],
   "source": [
    "from sklearn.feature_extraction.text import CountVectorizer\n",
    "cv = CountVectorizer(ngram_range=(4,4))\n",
    "X = cv.fit_transform(texts)\n"
   ]
  },
  {
   "cell_type": "code",
   "execution_count": 28,
   "metadata": {},
   "outputs": [
    {
     "name": "stdout",
     "output_type": "stream",
     "text": [
      "(4380, 232414)\n"
     ]
    }
   ],
   "source": [
    "print(X.shape)\n"
   ]
  },
  {
   "cell_type": "code",
   "execution_count": 29,
   "metadata": {},
   "outputs": [
    {
     "data": {
      "text/plain": [
       "<matplotlib.axes._subplots.AxesSubplot at 0x1a22179850>"
      ]
     },
     "execution_count": 29,
     "metadata": {},
     "output_type": "execute_result"
    },
    {
     "data": {
      "image/png": "[encoded data removed]",
      "text/plain": [
       "<Figure size 432x288 with 1 Axes>"
      ]
     },
     "metadata": {},
     "output_type": "display_data"
    }
   ],
   "source": [
    "dna['label'].value_counts().sort_index().plot.bar()\n"
   ]
  },
  {
   "cell_type": "code",
   "execution_count": 30,
   "metadata": {},
   "outputs": [],
   "source": [
    "# Splitting the human dataset into the training set and test set\n",
    "from sklearn.model_selection import train_test_split\n",
    "X_train, X_test, y_train, y_test = train_test_split(X, \n",
    "                                                    y_h, \n",
    "                                                    test_size = 0.20, \n",
    "                                                    random_state=42)"
   ]
  },
  {
   "cell_type": "code",
   "execution_count": 31,
   "metadata": {},
   "outputs": [
    {
     "name": "stdout",
     "output_type": "stream",
     "text": [
      "(3504, 232414)\n",
      "(876, 232414)\n"
     ]
    }
   ],
   "source": [
    "print(X_train.shape)\n",
    "print(X_test.shape)"
   ]
  },
  {
   "cell_type": "code",
   "execution_count": 37,
   "metadata": {},
   "outputs": [],
   "source": [
    "from sklearn.naive_bayes import MultinomialNB\n",
    "from sklearn.metrics import mean_squared_error, accuracy_score, f1_score,make_scorer\n",
    "from sklearn.metrics import confusion_matrix\n",
    "from sklearn.model_selection import GridSearchCV\n",
    "\n",
    "def NB_GridSearch(X_train, y_train):\n",
    "    grid_params = {'alpha':[0.1,0.2,0.3,0.4,0.5],\n",
    "                     'fit_prior': [True, False],  }\n",
    "    \n",
    "    gs = GridSearchCV( MultinomialNB(), grid_params,scoring='f1')\n",
    "    gs.fit(X_train, y_train)\n",
    "    print(\"Best Score: \", gs.best_score_)\n",
    "    print(\"Best Alpha: \", gs.best_params_)\n",
    "\n",
    "    return gs.best_params_.values()"
   ]
  },
  {
   "cell_type": "code",
   "execution_count": 51,
   "metadata": {},
   "outputs": [
    {
     "name": "stdout",
     "output_type": "stream",
     "text": [
      "Best Score:  0.9725013325951288\n",
      "Best Alpha:  {'alpha': 0.4, 'fit_prior': False}\n"
     ]
    }
   ],
   "source": [
    "# to get best score and best alpha\n",
    "alpha1,fit_prior1=NB_GridSearch(X_train, y_train)"
   ]
  },
  {
   "cell_type": "code",
   "execution_count": 52,
   "metadata": {},
   "outputs": [
    {
     "data": {
      "text/plain": [
       "MultinomialNB(alpha=0.4, class_prior=None, fit_prior=True)"
      ]
     },
     "execution_count": 52,
     "metadata": {},
     "output_type": "execute_result"
    }
   ],
   "source": [
    "from sklearn.naive_bayes import MultinomialNB\n",
    "classifier = MultinomialNB(alpha=0.4)\n",
    "classifier.fit(X_train, y_train)"
   ]
  },
  {
   "cell_type": "code",
   "execution_count": 53,
   "metadata": {},
   "outputs": [],
   "source": [
    "y_pred = classifier.predict(X_test)\n"
   ]
  },
  {
   "cell_type": "code",
   "execution_count": 54,
   "metadata": {},
   "outputs": [
    {
     "name": "stdout",
     "output_type": "stream",
     "text": [
      "Confusion matrix\n",
      "\n",
      "Predicted    0    1\n",
      "Actual             \n",
      "0          460    5\n",
      "1           11  400\n"
     ]
    }
   ],
   "source": [
    "from sklearn.metrics import accuracy_score, f1_score, precision_score, recall_score\n",
    "print(\"Confusion matrix\\n\")\n",
    "print(pd.crosstab(pd.Series(y_test, name='Actual'), pd.Series(y_pred, name='Predicted')))\n",
    "def get_metrics(y_test, y_predicted):\n",
    "    accuracy = accuracy_score(y_test, y_predicted)\n",
    "    precision = precision_score(y_test, y_predicted, average='weighted')\n",
    "    recall = recall_score(y_test, y_predicted, average='weighted')\n",
    "    f1 = f1_score(y_test, y_predicted, average='weighted')\n",
    "    return accuracy, precision, recall, f1"
   ]
  },
  {
   "cell_type": "code",
   "execution_count": 55,
   "metadata": {},
   "outputs": [
    {
     "name": "stdout",
     "output_type": "stream",
     "text": [
      "accuracy = 0.982 \n",
      "precision = 0.982 \n",
      "recall = 0.982 \n",
      "f1 = 0.982\n"
     ]
    }
   ],
   "source": [
    "accuracy, precision, recall, f1 = get_metrics(y_test, y_pred)\n",
    "print(\"accuracy = %.3f \\nprecision = %.3f \\nrecall = %.3f \\nf1 = %.3f\" % (accuracy, precision, recall, f1))"
   ]
  },
  {
   "cell_type": "code",
   "execution_count": 56,
   "metadata": {},
   "outputs": [
    {
     "name": "stderr",
     "output_type": "stream",
     "text": [
      "Using TensorFlow backend.\n"
     ]
    }
   ],
   "source": [
    "# thanks to :https://realpython.com/python-keras-text-classification/\n",
    "import keras\n",
    "from keras.models import Sequential\n",
    "from keras.layers import Dense, Dropout\n",
    "from keras.optimizers import RMSprop\n",
    "from keras.optimizers import Adam, SGD\n",
    "import tensorflow as tf"
   ]
  },
  {
   "cell_type": "code",
   "execution_count": 71,
   "metadata": {},
   "outputs": [],
   "source": [
    "from keras import regularizers\n",
    "import random\n",
    "def history_model(X_train, y_train,X_test, y_test):\n",
    "    #Before we build our model, we need to know the input dimension of our feature vectors.\n",
    "    input_dim = X_train.shape[1] \n",
    "    # Add layers one by one in order \n",
    "    random.seed(123)\n",
    "    model = Sequential()\n",
    "    model.add(keras.layers.Dense(20, input_dim=input_dim, activation='relu'))\n",
    "    model.add(keras.layers.Dense(1, activation='sigmoid'))\n",
    "    opt = SGD(lr=0.001, momentum=0.9)\n",
    "    #specify the optimizer and the loss function.\n",
    "    model.compile(loss='binary_crossentropy', \n",
    "                  optimizer=opt, \n",
    "                  metrics=['accuracy'])\n",
    "\n",
    "    #Give an overview of the model and the number of parameters available for training:\n",
    "    model.summary()\n",
    "    # # fit the model\n",
    "    history = model.fit(X_train, y_train,epochs=50, verbose=1,\n",
    "                    validation_data=(X_test, y_test),batch_size=50)\n",
    "    return history, model"
   ]
  },
  {
   "cell_type": "code",
   "execution_count": 72,
   "metadata": {},
   "outputs": [],
   "source": [
    "def nn_result_prediction(X_train, y_train,X_test, y_test,model):\n",
    "    # obtian Accuracies for train data and test data\n",
    "    loss1, accuracy1 = model.evaluate(X_train, y_train, verbose=False)\n",
    "    print(\"Training Accuracy: {:.4f}\".format(accuracy1))\n",
    "    loss2, accuracy2 = model.evaluate(X_test, y_test, verbose=False)\n",
    "    print(\"Testing Accuracy:  {:.4f}\".format(accuracy2))\n",
    "    #prediction\n",
    "    nn_train_pre=model.predict_classes(X_train)\n",
    "    nn_test_pre=model.predict_classes(X_test)\n",
    "\n",
    "    # calculate f1 scores for test data and train data \n",
    "    nn_f1_score_test=f1_score(y_test,nn_test_pre)\n",
    "    nn_f1_score_train=f1_score(y_train,nn_train_pre)\n",
    "\n",
    "    print(\"Train data f1 score:{}\".format(nn_f1_score_train))\n",
    "    print(\"Test data f1 score:{}\".format(nn_f1_score_test ))\n",
    "    print(\"confusion_matrix:{}\".format(confusion_matrix(y_test, nn_test_pre)))\n",
    "    return nn_train_pre,nn_test_pre"
   ]
  },
  {
   "cell_type": "code",
   "execution_count": 73,
   "metadata": {
    "scrolled": true
   },
   "outputs": [
    {
     "name": "stdout",
     "output_type": "stream",
     "text": [
      "Model: \"sequential_2\"\n",
      "_________________________________________________________________\n",
      "Layer (type)                 Output Shape              Param #   \n",
      "=================================================================\n",
      "dense_3 (Dense)              (None, 20)                4648300   \n",
      "_________________________________________________________________\n",
      "dense_4 (Dense)              (None, 1)                 21        \n",
      "=================================================================\n",
      "Total params: 4,648,321\n",
      "Trainable params: 4,648,321\n",
      "Non-trainable params: 0\n",
      "_________________________________________________________________\n",
      "Train on 3504 samples, validate on 876 samples\n",
      "Epoch 1/50\n",
      "3504/3504 [==============================] - 8s 2ms/step - loss: 0.5871 - accuracy: 0.7586 - val_loss: 0.4815 - val_accuracy: 0.9326\n",
      "Epoch 2/50\n",
      "3504/3504 [==============================] - 7s 2ms/step - loss: 0.3889 - accuracy: 0.9823 - val_loss: 0.3616 - val_accuracy: 0.9772\n",
      "Epoch 3/50\n",
      "3504/3504 [==============================] - 7s 2ms/step - loss: 0.2862 - accuracy: 0.9906 - val_loss: 0.2918 - val_accuracy: 0.9783\n",
      "Epoch 4/50\n",
      "3504/3504 [==============================] - 7s 2ms/step - loss: 0.2248 - accuracy: 0.9932 - val_loss: 0.2475 - val_accuracy: 0.9817\n",
      "Epoch 5/50\n",
      "3504/3504 [==============================] - 7s 2ms/step - loss: 0.1842 - accuracy: 0.9949 - val_loss: 0.2162 - val_accuracy: 0.9840\n",
      "Epoch 6/50\n",
      "3504/3504 [==============================] - 7s 2ms/step - loss: 0.1553 - accuracy: 0.9957 - val_loss: 0.1935 - val_accuracy: 0.9840\n",
      "Epoch 7/50\n",
      "3504/3504 [==============================] - 7s 2ms/step - loss: 0.1335 - accuracy: 0.9960 - val_loss: 0.1757 - val_accuracy: 0.9829\n",
      "Epoch 8/50\n",
      "3504/3504 [==============================] - 7s 2ms/step - loss: 0.1167 - accuracy: 0.9971 - val_loss: 0.1618 - val_accuracy: 0.9829\n",
      "Epoch 9/50\n",
      "3504/3504 [==============================] - 7s 2ms/step - loss: 0.1033 - accuracy: 0.9980 - val_loss: 0.1509 - val_accuracy: 0.9829\n",
      "Epoch 10/50\n",
      "3504/3504 [==============================] - 7s 2ms/step - loss: 0.0924 - accuracy: 0.9980 - val_loss: 0.1414 - val_accuracy: 0.9829\n",
      "Epoch 11/50\n",
      "3504/3504 [==============================] - 7s 2ms/step - loss: 0.0833 - accuracy: 0.9980 - val_loss: 0.1337 - val_accuracy: 0.9840\n",
      "Epoch 12/50\n",
      "3504/3504 [==============================] - 7s 2ms/step - loss: 0.0757 - accuracy: 0.9989 - val_loss: 0.1272 - val_accuracy: 0.9840\n",
      "Epoch 13/50\n",
      "3504/3504 [==============================] - 7s 2ms/step - loss: 0.0692 - accuracy: 0.9989 - val_loss: 0.1215 - val_accuracy: 0.9840\n",
      "Epoch 14/50\n",
      "3504/3504 [==============================] - 7s 2ms/step - loss: 0.0636 - accuracy: 0.9989 - val_loss: 0.1167 - val_accuracy: 0.9840\n",
      "Epoch 15/50\n",
      "3504/3504 [==============================] - 7s 2ms/step - loss: 0.0588 - accuracy: 0.9989 - val_loss: 0.1123 - val_accuracy: 0.9840\n",
      "Epoch 16/50\n",
      "3504/3504 [==============================] - 7s 2ms/step - loss: 0.0545 - accuracy: 0.9989 - val_loss: 0.1085 - val_accuracy: 0.9840\n",
      "Epoch 17/50\n",
      "3504/3504 [==============================] - 7s 2ms/step - loss: 0.0508 - accuracy: 0.9991 - val_loss: 0.1051 - val_accuracy: 0.9840\n",
      "Epoch 18/50\n",
      "3504/3504 [==============================] - 7s 2ms/step - loss: 0.0474 - accuracy: 0.9991 - val_loss: 0.1021 - val_accuracy: 0.9840\n",
      "Epoch 19/50\n",
      "3504/3504 [==============================] - 7s 2ms/step - loss: 0.0444 - accuracy: 0.9991 - val_loss: 0.0995 - val_accuracy: 0.9840\n",
      "Epoch 20/50\n",
      "3504/3504 [==============================] - 7s 2ms/step - loss: 0.0418 - accuracy: 0.9991 - val_loss: 0.0971 - val_accuracy: 0.9852\n",
      "Epoch 21/50\n",
      "3504/3504 [==============================] - 7s 2ms/step - loss: 0.0394 - accuracy: 0.9991 - val_loss: 0.0949 - val_accuracy: 0.9852\n",
      "Epoch 22/50\n",
      "3504/3504 [==============================] - 7s 2ms/step - loss: 0.0373 - accuracy: 0.9991 - val_loss: 0.0929 - val_accuracy: 0.9852\n",
      "Epoch 23/50\n",
      "3504/3504 [==============================] - 7s 2ms/step - loss: 0.0353 - accuracy: 0.9991 - val_loss: 0.0910 - val_accuracy: 0.9852\n",
      "Epoch 24/50\n",
      "3504/3504 [==============================] - 7s 2ms/step - loss: 0.0335 - accuracy: 0.9991 - val_loss: 0.0893 - val_accuracy: 0.9852\n",
      "Epoch 25/50\n",
      "3504/3504 [==============================] - 7s 2ms/step - loss: 0.0319 - accuracy: 0.9991 - val_loss: 0.0878 - val_accuracy: 0.9852\n",
      "Epoch 26/50\n",
      "3504/3504 [==============================] - 7s 2ms/step - loss: 0.0304 - accuracy: 0.9991 - val_loss: 0.0863 - val_accuracy: 0.9852\n",
      "Epoch 27/50\n",
      "3504/3504 [==============================] - 7s 2ms/step - loss: 0.0290 - accuracy: 0.9991 - val_loss: 0.0850 - val_accuracy: 0.9852\n",
      "Epoch 28/50\n",
      "3504/3504 [==============================] - 7s 2ms/step - loss: 0.0277 - accuracy: 0.9991 - val_loss: 0.0838 - val_accuracy: 0.9852\n",
      "Epoch 29/50\n",
      "3504/3504 [==============================] - 7s 2ms/step - loss: 0.0265 - accuracy: 0.9991 - val_loss: 0.0826 - val_accuracy: 0.9852\n",
      "Epoch 30/50\n",
      "3504/3504 [==============================] - 7s 2ms/step - loss: 0.0255 - accuracy: 0.9991 - val_loss: 0.0815 - val_accuracy: 0.9852\n",
      "Epoch 31/50\n",
      "3504/3504 [==============================] - 7s 2ms/step - loss: 0.0245 - accuracy: 0.9991 - val_loss: 0.0805 - val_accuracy: 0.9852\n",
      "Epoch 32/50\n",
      "3504/3504 [==============================] - 7s 2ms/step - loss: 0.0235 - accuracy: 0.9991 - val_loss: 0.0796 - val_accuracy: 0.9852\n",
      "Epoch 33/50\n",
      "3504/3504 [==============================] - 7s 2ms/step - loss: 0.0227 - accuracy: 0.9991 - val_loss: 0.0787 - val_accuracy: 0.9852\n",
      "Epoch 34/50\n",
      "3504/3504 [==============================] - 7s 2ms/step - loss: 0.0218 - accuracy: 0.9991 - val_loss: 0.0779 - val_accuracy: 0.9852\n",
      "Epoch 35/50\n",
      "3504/3504 [==============================] - 7s 2ms/step - loss: 0.0211 - accuracy: 0.9991 - val_loss: 0.0771 - val_accuracy: 0.9852\n",
      "Epoch 36/50\n",
      "3504/3504 [==============================] - 7s 2ms/step - loss: 0.0203 - accuracy: 0.9991 - val_loss: 0.0763 - val_accuracy: 0.9852\n",
      "Epoch 37/50\n",
      "3504/3504 [==============================] - 7s 2ms/step - loss: 0.0196 - accuracy: 0.9991 - val_loss: 0.0756 - val_accuracy: 0.9852\n",
      "Epoch 38/50\n",
      "3504/3504 [==============================] - 7s 2ms/step - loss: 0.0190 - accuracy: 0.9991 - val_loss: 0.0749 - val_accuracy: 0.9852\n",
      "Epoch 39/50\n",
      "3504/3504 [==============================] - 7s 2ms/step - loss: 0.0184 - accuracy: 0.9991 - val_loss: 0.0743 - val_accuracy: 0.9852\n",
      "Epoch 40/50\n",
      "3504/3504 [==============================] - 7s 2ms/step - loss: 0.0178 - accuracy: 0.9991 - val_loss: 0.0737 - val_accuracy: 0.9863\n",
      "Epoch 41/50\n",
      "3504/3504 [==============================] - 7s 2ms/step - loss: 0.0173 - accuracy: 0.9994 - val_loss: 0.0731 - val_accuracy: 0.9863\n",
      "Epoch 42/50\n",
      "3504/3504 [==============================] - 7s 2ms/step - loss: 0.0168 - accuracy: 0.9994 - val_loss: 0.0725 - val_accuracy: 0.9863\n",
      "Epoch 43/50\n",
      "3504/3504 [==============================] - 7s 2ms/step - loss: 0.0163 - accuracy: 0.9994 - val_loss: 0.0720 - val_accuracy: 0.9863\n",
      "Epoch 44/50\n",
      "3504/3504 [==============================] - 7s 2ms/step - loss: 0.0159 - accuracy: 0.9994 - val_loss: 0.0715 - val_accuracy: 0.9863\n",
      "Epoch 45/50\n",
      "3504/3504 [==============================] - 7s 2ms/step - loss: 0.0154 - accuracy: 0.9994 - val_loss: 0.0710 - val_accuracy: 0.9863\n",
      "Epoch 46/50\n",
      "3504/3504 [==============================] - 7s 2ms/step - loss: 0.0150 - accuracy: 0.9994 - val_loss: 0.0706 - val_accuracy: 0.9863\n",
      "Epoch 47/50\n",
      "3504/3504 [==============================] - 7s 2ms/step - loss: 0.0146 - accuracy: 0.9994 - val_loss: 0.0701 - val_accuracy: 0.9852\n",
      "Epoch 48/50\n",
      "3504/3504 [==============================] - 7s 2ms/step - loss: 0.0142 - accuracy: 0.9994 - val_loss: 0.0697 - val_accuracy: 0.9852\n",
      "Epoch 49/50\n",
      "3504/3504 [==============================] - 7s 2ms/step - loss: 0.0139 - accuracy: 0.9994 - val_loss: 0.0693 - val_accuracy: 0.9852\n",
      "Epoch 50/50\n",
      "3504/3504 [==============================] - 7s 2ms/step - loss: 0.0135 - accuracy: 0.9994 - val_loss: 0.0689 - val_accuracy: 0.9852\n"
     ]
    }
   ],
   "source": [
    "history, model=history_model(X_train, y_train,X_test, y_test)\n"
   ]
  },
  {
   "cell_type": "code",
   "execution_count": 74,
   "metadata": {},
   "outputs": [
    {
     "data": {
      "image/png": "[encoded data removed]",
      "text/plain": [
       "<Figure size 432x288 with 2 Axes>"
      ]
     },
     "metadata": {},
     "output_type": "display_data"
    }
   ],
   "source": [
    "# plot loss during training\n",
    "plt.subplot(211)\n",
    "plt.title('Loss')\n",
    "plt.plot(history.history['loss'], label='train')\n",
    "plt.plot(history.history['val_loss'], label='test')\n",
    "plt.legend()\n",
    "# plot accuracy during training\n",
    "plt.subplot(212)\n",
    "plt.title('Accuracy')\n",
    "plt.plot(history.history['accuracy'], label='train')\n",
    "plt.plot(history.history['val_accuracy'], label='test')\n",
    "plt.legend()\n",
    "plt.show()"
   ]
  },
  {
   "cell_type": "code",
   "execution_count": 75,
   "metadata": {},
   "outputs": [],
   "source": [
    "# create a function to show the resunlts\n",
    "from sklearn.metrics import confusion_matrix\n",
    "\n",
    "def nn_result_prediction(X_train, y_train,X_test, y_test,model): \n",
    "    #prediction\n",
    "    nn_train_pre=model.predict_classes(X_train)\n",
    "    nn_test_pre=model.predict_classes(X_test)\n",
    "    # calculate f1 scores for test data and train data \n",
    "    nn_f1_score_test=f1_score(y_test,nn_test_pre)\n",
    "    nn_f1_score_train=f1_score(y_train,nn_train_pre)\n",
    "    print(\"Train data f1 score:{}\".format(nn_f1_score_train))\n",
    "    print(\"Test data f1 score:{}\".format(nn_f1_score_test ))\n",
    "    \n",
    "    print(\"confusion_matrix:{}\".format(confusion_matrix(y_test, nn_test_pre)))\n",
    "\n",
    "    return nn_train_pre,nn_test_pre"
   ]
  },
  {
   "cell_type": "code",
   "execution_count": 76,
   "metadata": {},
   "outputs": [
    {
     "name": "stdout",
     "output_type": "stream",
     "text": [
      "Train data f1 score:0.9994026284348865\n",
      "Test data f1 score:0.9840881272949816\n",
      "confusion_matrix:[[461   4]\n",
      " [  9 402]]\n"
     ]
    }
   ],
   "source": [
    "# using the function above to show the result\n",
    "nn_train_pre,nn_test_pre=nn_result_prediction(X_train, y_train,X_test, y_test,model)\n"
   ]
  },
  {
   "cell_type": "code",
   "execution_count": 77,
   "metadata": {},
   "outputs": [
    {
     "data": {
      "text/plain": [
       "<matplotlib.axes._subplots.AxesSubplot at 0x1a40201dd0>"
      ]
     },
     "execution_count": 77,
     "metadata": {},
     "output_type": "execute_result"
    },
    {
     "data": {
      "image/png": "[encoded data removed]",
      "text/plain": [
       "<Figure size 720x504 with 2 Axes>"
      ]
     },
     "metadata": {},
     "output_type": "display_data"
    }
   ],
   "source": [
    "df_cm = pd.DataFrame(confusion_matrix(y_test, nn_test_pre), index = [i for i in \"01\"],\n",
    "                  columns = [i for i in \"01\"])\n",
    "plt.figure(figsize = (10,7))\n",
    "sns.heatmap(df_cm, annot=True ,cmap='Blues',annot_kws={\"size\": 16})"
   ]
  }
 ],
 "metadata": {
  "kernelspec": {
   "display_name": "Python 3",
   "language": "python",
   "name": "python3"
  },
  "language_info": {
   "codemirror_mode": {
    "name": "ipython",
    "version": 3
   },
   "file_extension": ".py",
   "mimetype": "text/x-python",
   "name": "python",
   "nbconvert_exporter": "python",
   "pygments_lexer": "ipython3",
   "version": "3.7.6"
  },
  "toc": {
   "base_numbering": 1,
   "nav_menu": {},
   "number_sections": true,
   "sideBar": true,
   "skip_h1_title": false,
   "title_cell": "Table of Contents",
   "title_sidebar": "Contents",
   "toc_cell": false,
   "toc_position": {},
   "toc_section_display": true,
   "toc_window_display": true
  }
 },
 "nbformat": 4,
 "nbformat_minor": 4
}
