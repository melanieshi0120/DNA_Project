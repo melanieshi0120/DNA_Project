{
 "cells": [
  {
   "cell_type": "code",
   "execution_count": 1,
   "metadata": {},
   "outputs": [
    {
     "name": "stderr",
     "output_type": "stream",
     "text": [
      "Using TensorFlow backend.\n"
     ]
    }
   ],
   "source": [
    "import pandas as pd\n",
    "import numpy as np\n",
    "import seaborn as sns\n",
    "sns.set()\n",
    "import matplotlib.pyplot as plt\n",
    "import os\n",
    "import keras\n",
    "from keras.preprocessing.text import Tokenizer\n",
    "from keras.preprocessing.sequence import pad_sequences\n",
    "from keras.models import Sequential\n",
    "from keras.layers import Dense\n",
    "from keras.utils.np_utils import to_categorical\n",
    "from keras.optimizers import Adam, SGD\n"
   ]
  },
  {
   "cell_type": "code",
   "execution_count": 37,
   "metadata": {},
   "outputs": [],
   "source": [
    "path='/Users/yingyuxuan/Downloads/msk-redefining-cancer-treatment/'\n",
    "target=pd.read_csv(path+'target.csv')\n",
    "inputs=pd.read_csv(path+'inputs.csv')"
   ]
  },
  {
   "cell_type": "code",
   "execution_count": 38,
   "metadata": {},
   "outputs": [],
   "source": [
    "target.drop(columns='Unnamed: 0',inplace=True)\n",
    "inputs.drop(columns='Unnamed: 0',inplace=True)"
   ]
  },
  {
   "cell_type": "code",
   "execution_count": 39,
   "metadata": {},
   "outputs": [
    {
     "data": {
      "text/html": [
       "<div>\n",
       "<style scoped>\n",
       "    .dataframe tbody tr th:only-of-type {\n",
       "        vertical-align: middle;\n",
       "    }\n",
       "\n",
       "    .dataframe tbody tr th {\n",
       "        vertical-align: top;\n",
       "    }\n",
       "\n",
       "    .dataframe thead th {\n",
       "        text-align: right;\n",
       "    }\n",
       "</style>\n",
       "<table border=\"1\" class=\"dataframe\">\n",
       "  <thead>\n",
       "    <tr style=\"text-align: right;\">\n",
       "      <th></th>\n",
       "      <th>target</th>\n",
       "    </tr>\n",
       "  </thead>\n",
       "  <tbody>\n",
       "    <tr>\n",
       "      <th>0</th>\n",
       "      <td>1</td>\n",
       "    </tr>\n",
       "    <tr>\n",
       "      <th>1</th>\n",
       "      <td>1</td>\n",
       "    </tr>\n",
       "    <tr>\n",
       "      <th>2</th>\n",
       "      <td>1</td>\n",
       "    </tr>\n",
       "    <tr>\n",
       "      <th>3</th>\n",
       "      <td>1</td>\n",
       "    </tr>\n",
       "    <tr>\n",
       "      <th>4</th>\n",
       "      <td>1</td>\n",
       "    </tr>\n",
       "  </tbody>\n",
       "</table>\n",
       "</div>"
      ],
      "text/plain": [
       "   target\n",
       "0       1\n",
       "1       1\n",
       "2       1\n",
       "3       1\n",
       "4       1"
      ]
     },
     "execution_count": 39,
     "metadata": {},
     "output_type": "execute_result"
    }
   ],
   "source": [
    "target.head()"
   ]
  },
  {
   "cell_type": "code",
   "execution_count": 40,
   "metadata": {},
   "outputs": [
    {
     "data": {
      "text/html": [
       "<div>\n",
       "<style scoped>\n",
       "    .dataframe tbody tr th:only-of-type {\n",
       "        vertical-align: middle;\n",
       "    }\n",
       "\n",
       "    .dataframe tbody tr th {\n",
       "        vertical-align: top;\n",
       "    }\n",
       "\n",
       "    .dataframe thead th {\n",
       "        text-align: right;\n",
       "    }\n",
       "</style>\n",
       "<table border=\"1\" class=\"dataframe\">\n",
       "  <thead>\n",
       "    <tr style=\"text-align: right;\">\n",
       "      <th></th>\n",
       "      <th>Gene</th>\n",
       "      <th>Variation</th>\n",
       "      <th>cleaned_text</th>\n",
       "    </tr>\n",
       "  </thead>\n",
       "  <tbody>\n",
       "    <tr>\n",
       "      <th>0</th>\n",
       "      <td>PRDM1</td>\n",
       "      <td>Deletion</td>\n",
       "      <td>prdm1/blimp-1 master regul plasma-cel differen...</td>\n",
       "    </tr>\n",
       "    <tr>\n",
       "      <th>1</th>\n",
       "      <td>BAP1</td>\n",
       "      <td>Deletion</td>\n",
       "      <td>small fraction asbestos-expos individu develop...</td>\n",
       "    </tr>\n",
       "    <tr>\n",
       "      <th>2</th>\n",
       "      <td>TSC1</td>\n",
       "      <td>V220F</td>\n",
       "      <td>along-stand problem oncolog variabl treatment ...</td>\n",
       "    </tr>\n",
       "    <tr>\n",
       "      <th>3</th>\n",
       "      <td>VHL</td>\n",
       "      <td>S65A</td>\n",
       "      <td>mutat hotspot indic select pressur across popu...</td>\n",
       "    </tr>\n",
       "    <tr>\n",
       "      <th>4</th>\n",
       "      <td>CARM1</td>\n",
       "      <td>S217C</td>\n",
       "      <td>coactivator-associ arginin methyltransferas 1 ...</td>\n",
       "    </tr>\n",
       "  </tbody>\n",
       "</table>\n",
       "</div>"
      ],
      "text/plain": [
       "    Gene Variation                                       cleaned_text\n",
       "0  PRDM1  Deletion  prdm1/blimp-1 master regul plasma-cel differen...\n",
       "1   BAP1  Deletion  small fraction asbestos-expos individu develop...\n",
       "2   TSC1     V220F  along-stand problem oncolog variabl treatment ...\n",
       "3    VHL      S65A  mutat hotspot indic select pressur across popu...\n",
       "4  CARM1     S217C  coactivator-associ arginin methyltransferas 1 ..."
      ]
     },
     "execution_count": 40,
     "metadata": {},
     "output_type": "execute_result"
    }
   ],
   "source": [
    "inputs.head()"
   ]
  },
  {
   "cell_type": "code",
   "execution_count": 41,
   "metadata": {
    "code_folding": []
   },
   "outputs": [],
   "source": [
    "combined_text=[inputs.Gene[i]+inputs.Variation[i]+inputs.cleaned_text[i] for i in range(len(inputs))]"
   ]
  },
  {
   "cell_type": "code",
   "execution_count": 42,
   "metadata": {},
   "outputs": [
    {
     "data": {
      "text/plain": [
       "(9520,)"
      ]
     },
     "execution_count": 42,
     "metadata": {},
     "output_type": "execute_result"
    }
   ],
   "source": [
    "inputs.Gene.shape"
   ]
  },
  {
   "cell_type": "code",
   "execution_count": 43,
   "metadata": {},
   "outputs": [
    {
     "data": {
      "text/plain": [
       "9520"
      ]
     },
     "execution_count": 43,
     "metadata": {},
     "output_type": "execute_result"
    }
   ],
   "source": [
    "len(combined_text)"
   ]
  },
  {
   "cell_type": "code",
   "execution_count": 45,
   "metadata": {},
   "outputs": [],
   "source": [
    "#train test split dataset\n",
    "from sklearn.model_selection import train_test_split\n",
    "\n",
    "x_train, x_test, y_train, y_test = train_test_split(combined_text, target, test_size=.2, random_state=0)"
   ]
  },
  {
   "cell_type": "code",
   "execution_count": 46,
   "metadata": {},
   "outputs": [],
   "source": [
    "# Create a function for vectorize text data\n",
    "from sklearn.feature_extraction.text import CountVectorizer\n",
    "def vectorizer(train,test):\n",
    "    vectorizer=CountVectorizer()\n",
    "    new_train=vectorizer.fit_transform(train)\n",
    "    new_test=vectorizer.transform(test)\n",
    "    return new_train,new_test"
   ]
  },
  {
   "cell_type": "code",
   "execution_count": 47,
   "metadata": {},
   "outputs": [],
   "source": [
    "X_train,X_test=vectorizer(x_train,x_test)"
   ]
  },
  {
   "cell_type": "code",
   "execution_count": 48,
   "metadata": {},
   "outputs": [],
   "source": [
    "Y_train=to_categorical(y_train.target)\n",
    "Y_test=to_categorical(y_test.target)"
   ]
  },
  {
   "cell_type": "markdown",
   "metadata": {},
   "source": [
    "# Deep Learning"
   ]
  },
  {
   "cell_type": "code",
   "execution_count": 88,
   "metadata": {},
   "outputs": [],
   "source": [
    "def history_model(X_train, Y_train,X_test, Y_test):\n",
    "\n",
    "    #Before we build our model, we need to know the input dimension of our feature vectors.\n",
    "    input_dim = X_train.shape[1] \n",
    "    # Add layers one by one in order \n",
    "    model = Sequential()\n",
    "    model.add(keras.layers.Dense(60, input_dim=input_dim, activation='relu', kernel_initializer='he_uniform'))\n",
    "    model.add(keras.layers.Dense(60))\n",
    "    model.add(keras.layers.Dense(10, activation='softmax'))\n",
    "    opt = SGD(lr=0.001, momentum=0.9)\n",
    "    #specify the optimizer and the loss function.\n",
    "    model.compile(loss='categorical_crossentropy', \n",
    "                  optimizer='adam', \n",
    "                  metrics=['accuracy'])\n",
    "\n",
    "    #Give an overview of the model and the number of parameters available for training:\n",
    "    model.summary()\n",
    "    # # fit the mode\n",
    "    history = model.fit(X_train, Y_train,epochs=55, verbose=2,\n",
    "                    validation_data=(X_test, Y_test),batch_size=50)\n",
    "    return history, model"
   ]
  },
  {
   "cell_type": "code",
   "execution_count": 89,
   "metadata": {},
   "outputs": [
    {
     "name": "stdout",
     "output_type": "stream",
     "text": [
      "Model: \"sequential_10\"\n",
      "_________________________________________________________________\n",
      "Layer (type)                 Output Shape              Param #   \n",
      "=================================================================\n",
      "dense_19 (Dense)             (None, 60)                8026980   \n",
      "_________________________________________________________________\n",
      "dense_20 (Dense)             (None, 60)                3660      \n",
      "_________________________________________________________________\n",
      "dense_21 (Dense)             (None, 10)                610       \n",
      "=================================================================\n",
      "Total params: 8,031,250\n",
      "Trainable params: 8,031,250\n",
      "Non-trainable params: 0\n",
      "_________________________________________________________________\n",
      "Train on 7616 samples, validate on 1904 samples\n",
      "Epoch 1/55\n",
      " - 24s - loss: 1.0795 - accuracy: 0.6704 - val_loss: 0.7128 - val_accuracy: 0.7495\n",
      "Epoch 2/55\n",
      " - 24s - loss: 0.5433 - accuracy: 0.8200 - val_loss: 0.7094 - val_accuracy: 0.7747\n",
      "Epoch 3/55\n",
      " - 23s - loss: 0.4648 - accuracy: 0.8477 - val_loss: 0.6121 - val_accuracy: 0.8099\n",
      "Epoch 4/55\n",
      " - 23s - loss: 0.4079 - accuracy: 0.8557 - val_loss: 0.5995 - val_accuracy: 0.8072\n",
      "Epoch 5/55\n",
      " - 23s - loss: 0.3810 - accuracy: 0.8581 - val_loss: 0.5236 - val_accuracy: 0.8235\n",
      "Epoch 6/55\n",
      " - 27s - loss: 0.3658 - accuracy: 0.8613 - val_loss: 0.5884 - val_accuracy: 0.8162\n",
      "Epoch 7/55\n",
      " - 24s - loss: 0.3596 - accuracy: 0.8640 - val_loss: 0.6296 - val_accuracy: 0.8099\n",
      "Epoch 8/55\n",
      " - 23s - loss: 0.3616 - accuracy: 0.8595 - val_loss: 0.5867 - val_accuracy: 0.8083\n",
      "Epoch 9/55\n",
      " - 23s - loss: 0.3429 - accuracy: 0.8665 - val_loss: 0.5603 - val_accuracy: 0.8151\n",
      "Epoch 10/55\n",
      " - 25s - loss: 0.3359 - accuracy: 0.8699 - val_loss: 0.5716 - val_accuracy: 0.8230\n",
      "Epoch 11/55\n",
      " - 23s - loss: 0.3186 - accuracy: 0.8754 - val_loss: 0.5988 - val_accuracy: 0.8136\n",
      "Epoch 12/55\n",
      " - 23s - loss: 0.3235 - accuracy: 0.8721 - val_loss: 0.5839 - val_accuracy: 0.8309\n",
      "Epoch 13/55\n",
      " - 23s - loss: 0.3193 - accuracy: 0.8762 - val_loss: 0.6143 - val_accuracy: 0.8214\n",
      "Epoch 14/55\n",
      " - 23s - loss: 0.3194 - accuracy: 0.8746 - val_loss: 0.5835 - val_accuracy: 0.8298\n",
      "Epoch 15/55\n",
      " - 23s - loss: 0.3052 - accuracy: 0.8721 - val_loss: 0.5947 - val_accuracy: 0.8330\n",
      "Epoch 16/55\n",
      " - 24s - loss: 0.3730 - accuracy: 0.8606 - val_loss: 0.6137 - val_accuracy: 0.8193\n",
      "Epoch 17/55\n",
      " - 24s - loss: 0.3065 - accuracy: 0.8742 - val_loss: 0.6025 - val_accuracy: 0.8356\n",
      "Epoch 18/55\n",
      " - 25s - loss: 0.2864 - accuracy: 0.8782 - val_loss: 0.6041 - val_accuracy: 0.8445\n",
      "Epoch 19/55\n",
      " - 24s - loss: 0.2891 - accuracy: 0.8787 - val_loss: 0.6081 - val_accuracy: 0.8346\n",
      "Epoch 20/55\n",
      " - 22s - loss: 0.3195 - accuracy: 0.8726 - val_loss: 0.6408 - val_accuracy: 0.8346\n",
      "Epoch 21/55\n",
      " - 27s - loss: 0.3177 - accuracy: 0.8738 - val_loss: 0.6853 - val_accuracy: 0.8319\n",
      "Epoch 22/55\n",
      " - 24s - loss: 0.2986 - accuracy: 0.8813 - val_loss: 0.6291 - val_accuracy: 0.8230\n",
      "Epoch 23/55\n",
      " - 27s - loss: 0.2806 - accuracy: 0.8851 - val_loss: 0.6581 - val_accuracy: 0.8141\n",
      "Epoch 24/55\n",
      " - 24s - loss: 0.2821 - accuracy: 0.8824 - val_loss: 0.6647 - val_accuracy: 0.8230\n",
      "Epoch 25/55\n",
      " - 25s - loss: 0.2899 - accuracy: 0.8818 - val_loss: 0.6661 - val_accuracy: 0.8314\n",
      "Epoch 26/55\n",
      " - 24s - loss: 0.2810 - accuracy: 0.8837 - val_loss: 0.6325 - val_accuracy: 0.8419\n",
      "Epoch 27/55\n",
      " - 25s - loss: 0.3015 - accuracy: 0.8766 - val_loss: 0.6646 - val_accuracy: 0.8167\n",
      "Epoch 28/55\n",
      " - 24s - loss: 0.2863 - accuracy: 0.8825 - val_loss: 0.6171 - val_accuracy: 0.8356\n",
      "Epoch 29/55\n",
      " - 24s - loss: 0.2819 - accuracy: 0.8810 - val_loss: 0.7272 - val_accuracy: 0.8193\n",
      "Epoch 30/55\n",
      " - 24s - loss: 0.2871 - accuracy: 0.8821 - val_loss: 0.6843 - val_accuracy: 0.8424\n",
      "Epoch 31/55\n",
      " - 23s - loss: 0.2923 - accuracy: 0.8795 - val_loss: 0.6943 - val_accuracy: 0.8419\n",
      "Epoch 32/55\n",
      " - 25s - loss: 0.2853 - accuracy: 0.8793 - val_loss: 0.6877 - val_accuracy: 0.8451\n",
      "Epoch 33/55\n",
      " - 24s - loss: 0.2681 - accuracy: 0.8901 - val_loss: 0.6835 - val_accuracy: 0.8503\n",
      "Epoch 34/55\n",
      " - 23s - loss: 0.2746 - accuracy: 0.8830 - val_loss: 0.6850 - val_accuracy: 0.8477\n",
      "Epoch 35/55\n",
      " - 23s - loss: 0.2892 - accuracy: 0.8795 - val_loss: 0.7578 - val_accuracy: 0.8235\n",
      "Epoch 36/55\n",
      " - 23s - loss: 0.2833 - accuracy: 0.8818 - val_loss: 0.7447 - val_accuracy: 0.8199\n",
      "Epoch 37/55\n",
      " - 23s - loss: 0.2966 - accuracy: 0.8787 - val_loss: 0.7080 - val_accuracy: 0.8472\n",
      "Epoch 38/55\n",
      " - 23s - loss: 0.2883 - accuracy: 0.8835 - val_loss: 0.7055 - val_accuracy: 0.8440\n",
      "Epoch 39/55\n",
      " - 23s - loss: 0.3028 - accuracy: 0.8809 - val_loss: 0.5820 - val_accuracy: 0.8556\n",
      "Epoch 40/55\n",
      " - 23s - loss: 0.2681 - accuracy: 0.8866 - val_loss: 0.7012 - val_accuracy: 0.8220\n",
      "Epoch 41/55\n",
      " - 23s - loss: 0.2971 - accuracy: 0.8793 - val_loss: 0.6648 - val_accuracy: 0.8451\n",
      "Epoch 42/55\n",
      " - 28s - loss: 0.2752 - accuracy: 0.8845 - val_loss: 0.6860 - val_accuracy: 0.8487\n",
      "Epoch 43/55\n",
      " - 31s - loss: 0.2652 - accuracy: 0.8890 - val_loss: 0.6940 - val_accuracy: 0.8346\n",
      "Epoch 44/55\n",
      " - 29s - loss: 0.2652 - accuracy: 0.8864 - val_loss: 0.6799 - val_accuracy: 0.8435\n",
      "Epoch 45/55\n",
      " - 29s - loss: 0.2686 - accuracy: 0.8893 - val_loss: 0.6785 - val_accuracy: 0.8435\n",
      "Epoch 46/55\n",
      " - 32s - loss: 0.2598 - accuracy: 0.8927 - val_loss: 0.7705 - val_accuracy: 0.8340\n",
      "Epoch 47/55\n",
      " - 30s - loss: 0.2717 - accuracy: 0.8826 - val_loss: 0.7051 - val_accuracy: 0.8456\n",
      "Epoch 48/55\n",
      " - 29s - loss: 0.2727 - accuracy: 0.8852 - val_loss: 0.6988 - val_accuracy: 0.8367\n",
      "Epoch 49/55\n",
      " - 24s - loss: 0.2739 - accuracy: 0.8850 - val_loss: 0.6766 - val_accuracy: 0.8393\n",
      "Epoch 50/55\n",
      " - 25s - loss: 0.2658 - accuracy: 0.8889 - val_loss: 0.6331 - val_accuracy: 0.8461\n",
      "Epoch 51/55\n",
      " - 26s - loss: 0.2720 - accuracy: 0.8883 - val_loss: 0.7532 - val_accuracy: 0.8351\n",
      "Epoch 52/55\n",
      " - 28s - loss: 0.2787 - accuracy: 0.8855 - val_loss: 0.8023 - val_accuracy: 0.8461\n",
      "Epoch 53/55\n",
      " - 30s - loss: 0.2848 - accuracy: 0.8847 - val_loss: 0.7301 - val_accuracy: 0.8361\n",
      "Epoch 54/55\n",
      " - 31s - loss: 0.2907 - accuracy: 0.8816 - val_loss: 0.6838 - val_accuracy: 0.8382\n",
      "Epoch 55/55\n",
      " - 31s - loss: 0.2742 - accuracy: 0.8859 - val_loss: 0.7043 - val_accuracy: 0.8545\n"
     ]
    }
   ],
   "source": [
    "history, model=history_model(X_train, Y_train,X_test, Y_test)\n"
   ]
  },
  {
   "cell_type": "code",
   "execution_count": 90,
   "metadata": {},
   "outputs": [
    {
     "data": {
      "text/plain": [
       "Text(0.5, 1.0, 'Accuracy')"
      ]
     },
     "execution_count": 90,
     "metadata": {},
     "output_type": "execute_result"
    },
    {
     "data": {
      "image/png": "[encoded data removed]",
      "text/plain": [
       "<Figure size 1080x288 with 2 Axes>"
      ]
     },
     "metadata": {},
     "output_type": "display_data"
    }
   ],
   "source": [
    "plt.figure(figsize=(15,4))\n",
    "# Loss\n",
    "plt.subplot(1,2,1)\n",
    "plt.plot(list(range(len(history.history['val_loss']))),history.history['val_loss'])\n",
    "plt.plot(list(range(len(history.history['loss']))),history.history['loss'])\n",
    "plt.title('Loss')\n",
    "# accuracy\n",
    "plt.subplot(1,2,2)\n",
    "plt.plot(list(range(len(history.history['val_accuracy']))),history.history['val_accuracy'])\n",
    "plt.plot(list(range(len(history.history['accuracy']))),history.history['accuracy'])\n",
    "plt.title('Accuracy')\n"
   ]
  },
  {
   "cell_type": "code",
   "execution_count": 91,
   "metadata": {},
   "outputs": [],
   "source": [
    "from sklearn.metrics import mean_squared_error, accuracy_score, f1_score,make_scorer\n",
    "from sklearn.metrics import confusion_matrix\n",
    "def NN_results(history,model,x_train,x_test):\n",
    "    #prediction\n",
    "    nn_train_pre=model.predict_classes(x_train)\n",
    "    nn_test_pre=model.predict_classes(x_test)\n",
    "    # Use accuracy_score function to get the accuracy\n",
    "    print(\"Accuracy Score - train data:\",accuracy_score(nn_train_pre, y_train))\n",
    "    print(\"Accuracy Score - test data:\",accuracy_score(nn_test_pre, y_test))\n",
    "    print('=================================================================')\n",
    "    #calculate f1 scores for test data and train data \n",
    "    nn_f1_score_test=f1_score( y_test,nn_test_pre,average='weighted')\n",
    "    nn_f1_score_train=f1_score(y_train,nn_train_pre,average='weighted')\n",
    "    print(\"Train data f1 score:{}\".format(nn_f1_score_train))\n",
    "    print(\"Test data f1 score:{}\".format(nn_f1_score_test ))\n",
    "    print('=================================================================')\n",
    "    print(confusion_matrix(y_test, nn_test_pre))\n",
    "    return nn_train_pre,nn_test_pre\n",
    "          "
   ]
  },
  {
   "cell_type": "code",
   "execution_count": 92,
   "metadata": {},
   "outputs": [
    {
     "name": "stdout",
     "output_type": "stream",
     "text": [
      "Accuracy Score - train data: 0.8979779411764706\n",
      "Accuracy Score - test data: 0.854516806722689\n",
      "=================================================================\n",
      "Train data f1 score:0.8981466867834812\n",
      "Test data f1 score:0.8529348253781612\n",
      "=================================================================\n",
      "[[138   0   2  14  24  10   1   0   0]\n",
      " [  1 160   0   0   3   1  29   0   0]\n",
      " [  0   0 181   0   1   3   0   0   0]\n",
      " [ 15   0  29 116  13   3   4   0   0]\n",
      " [  6   2  12   0 161  16   9   0   4]\n",
      " [  4   1   1   0   5 183   3   0   0]\n",
      " [  6  19  25   0   9   2 319   0   0]\n",
      " [  0   0   0   0   0   0   0 163   0]\n",
      " [  0   0   0   0   0   0   0   0 206]]\n"
     ]
    }
   ],
   "source": [
    "nn_train_pre,nn_test_pre=NN_results(history,model,X_train,X_test)"
   ]
  },
  {
   "cell_type": "code",
   "execution_count": null,
   "metadata": {},
   "outputs": [],
   "source": []
  }
 ],
 "metadata": {
  "kernelspec": {
   "display_name": "Python 3",
   "language": "python",
   "name": "python3"
  },
  "language_info": {
   "codemirror_mode": {
    "name": "ipython",
    "version": 3
   },
   "file_extension": ".py",
   "mimetype": "text/x-python",
   "name": "python",
   "nbconvert_exporter": "python",
   "pygments_lexer": "ipython3",
   "version": "3.7.6"
  },
  "toc": {
   "base_numbering": 1,
   "nav_menu": {},
   "number_sections": true,
   "sideBar": true,
   "skip_h1_title": false,
   "title_cell": "Table of Contents",
   "title_sidebar": "Contents",
   "toc_cell": false,
   "toc_position": {},
   "toc_section_display": true,
   "toc_window_display": true
  }
 },
 "nbformat": 4,
 "nbformat_minor": 4
}
